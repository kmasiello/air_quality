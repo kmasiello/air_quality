{
 "cells": [
  {
   "cell_type": "markdown",
   "id": "9d23c224-2eff-42bc-a0d5-c66b0139b0c4",
   "metadata": {},
   "source": [
    "# A Jupyter Notebook to poll the daily AQI readings for a location."
   ]
  },
  {
   "cell_type": "markdown",
   "id": "1fa8250a",
   "metadata": {},
   "source": [
    "Build the API query URL"
   ]
  },
  {
   "cell_type": "code",
   "execution_count": 1,
   "id": "3b2455ae",
   "metadata": {},
   "outputs": [],
   "source": [
    "base_url = \"https://www.airnowapi.org/aq/data/\""
   ]
  },
  {
   "cell_type": "code",
   "execution_count": 2,
   "id": "15206f37",
   "metadata": {},
   "outputs": [],
   "source": [
    "from datetime import datetime\n",
    "from datetime import timedelta"
   ]
  },
  {
   "cell_type": "code",
   "execution_count": 3,
   "id": "d03ccda4",
   "metadata": {},
   "outputs": [],
   "source": [
    "timespan = 24 #hours\n",
    "now = datetime.now()\n",
    "then = now - timedelta(hours=timespan)"
   ]
  },
  {
   "cell_type": "code",
   "execution_count": 4,
   "id": "05366959",
   "metadata": {},
   "outputs": [],
   "source": [
    "endDate = now.strftime(\"%Y-%m-%dT%H\")\n",
    "startDate = then.strftime(\"%Y-%m-%dT%H\")"
   ]
  },
  {
   "cell_type": "code",
   "execution_count": 5,
   "id": "912d7ba0",
   "metadata": {},
   "outputs": [],
   "source": [
    "#Constant endpoints\n",
    "parameters = \"parameters=OZONE,PM25,PM10,CO,NO2,SO2\"\n",
    "boundingBox = \"BBOX=-123.146648,46.996876,-121.487713,48.204308\"\n",
    "dataType = \"dataType=B\"\n",
    "format_ = \"format=text/csv\"\n",
    "verbose = \"verbose=1\"\n",
    "nowcastonly = \"nowcastonly=1\"\n",
    "includeRaw = \"includerawconcentrations=1\""
   ]
  },
  {
   "cell_type": "code",
   "execution_count": 27,
   "id": "4744e57f-e2f7-49f6-a60b-d94c4bafd443",
   "metadata": {},
   "outputs": [
    {
     "data": {
      "text/plain": [
       "True"
      ]
     },
     "execution_count": 27,
     "metadata": {},
     "output_type": "execute_result"
    }
   ],
   "source": [
    "import os\n",
    "from dotenv import load_dotenv\n",
    "load_dotenv()"
   ]
  },
  {
   "cell_type": "code",
   "execution_count": 9,
   "id": "b5a1a180-603f-4936-ba29-643280d07bdd",
   "metadata": {},
   "outputs": [],
   "source": [
    "query_url = base_url + \"?\" + \"startDate=\" + startDate + \"&\" + \"endDate=\" + endDate + \"&\" + parameters + \"&\" + boundingBox + \"&\" + dataType + \"&\" + format_ + \"&\" + verbose + \"&\" + nowcastonly + \"&\" + includeRaw + \"&API_KEY=\" + os.getenv(\"AIRNOW_API_KEY\")"
   ]
  },
  {
   "cell_type": "code",
   "execution_count": 10,
   "id": "8e847bfb",
   "metadata": {},
   "outputs": [],
   "source": [
    "import requests"
   ]
  },
  {
   "cell_type": "code",
   "execution_count": 11,
   "id": "1b028fbb",
   "metadata": {},
   "outputs": [],
   "source": [
    "response = requests.get(query_url)\n",
    "response = response.content"
   ]
  },
  {
   "cell_type": "code",
   "execution_count": 12,
   "id": "97981922",
   "metadata": {},
   "outputs": [],
   "source": [
    "import pandas as pd\n",
    "import io"
   ]
  },
  {
   "cell_type": "code",
   "execution_count": 13,
   "id": "b907a56d",
   "metadata": {},
   "outputs": [],
   "source": [
    "colnames = [\"Latitude\", \"Longitude\", \"UTC\", \"Pollutant\", \"Concentration\", \"Unit\", \"Raw_Concentration\", \"AQI\", \"Category\", \"Site_Name\", \"Site_Agency\", \"AQS_ID\", \"Full_AWS_ID\"]"
   ]
  },
  {
   "cell_type": "code",
   "execution_count": 14,
   "id": "7219dba8",
   "metadata": {},
   "outputs": [],
   "source": [
    "df = pd.read_csv(io.StringIO(response.decode('utf-8')), names = colnames)"
   ]
  },
  {
   "cell_type": "code",
   "execution_count": 15,
   "id": "a465b143",
   "metadata": {},
   "outputs": [
    {
     "data": {
      "text/html": [
       "<div>\n",
       "<style scoped>\n",
       "    .dataframe tbody tr th:only-of-type {\n",
       "        vertical-align: middle;\n",
       "    }\n",
       "\n",
       "    .dataframe tbody tr th {\n",
       "        vertical-align: top;\n",
       "    }\n",
       "\n",
       "    .dataframe thead th {\n",
       "        text-align: right;\n",
       "    }\n",
       "</style>\n",
       "<table border=\"1\" class=\"dataframe\">\n",
       "  <thead>\n",
       "    <tr style=\"text-align: right;\">\n",
       "      <th></th>\n",
       "      <th>Latitude</th>\n",
       "      <th>Longitude</th>\n",
       "      <th>UTC</th>\n",
       "      <th>Pollutant</th>\n",
       "      <th>Concentration</th>\n",
       "      <th>Unit</th>\n",
       "      <th>Raw_Concentration</th>\n",
       "      <th>AQI</th>\n",
       "      <th>Category</th>\n",
       "      <th>Site_Name</th>\n",
       "      <th>Site_Agency</th>\n",
       "      <th>AQS_ID</th>\n",
       "      <th>Full_AWS_ID</th>\n",
       "    </tr>\n",
       "  </thead>\n",
       "  <tbody>\n",
       "    <tr>\n",
       "      <th>0</th>\n",
       "      <td>47.213551</td>\n",
       "      <td>-123.100807</td>\n",
       "      <td>2024-07-30T23:00</td>\n",
       "      <td>PM2.5</td>\n",
       "      <td>2.3</td>\n",
       "      <td>UG/M3</td>\n",
       "      <td>2.4</td>\n",
       "      <td>13</td>\n",
       "      <td>1</td>\n",
       "      <td>Shelton-W Franklin</td>\n",
       "      <td>Washington Department of Ecology</td>\n",
       "      <td>530450007</td>\n",
       "      <td>840530450007</td>\n",
       "    </tr>\n",
       "    <tr>\n",
       "      <th>1</th>\n",
       "      <td>47.029301</td>\n",
       "      <td>-122.821503</td>\n",
       "      <td>2024-07-30T23:00</td>\n",
       "      <td>OZONE</td>\n",
       "      <td>12.0</td>\n",
       "      <td>PPB</td>\n",
       "      <td>13.0</td>\n",
       "      <td>11</td>\n",
       "      <td>1</td>\n",
       "      <td>Lacey-College St</td>\n",
       "      <td>Washington Department of Ecology</td>\n",
       "      <td>530670013</td>\n",
       "      <td>840530670013</td>\n",
       "    </tr>\n",
       "    <tr>\n",
       "      <th>2</th>\n",
       "      <td>47.029301</td>\n",
       "      <td>-122.821503</td>\n",
       "      <td>2024-07-30T23:00</td>\n",
       "      <td>PM2.5</td>\n",
       "      <td>0.0</td>\n",
       "      <td>UG/M3</td>\n",
       "      <td>-2.0</td>\n",
       "      <td>0</td>\n",
       "      <td>1</td>\n",
       "      <td>Lacey-College St</td>\n",
       "      <td>Washington Department of Ecology</td>\n",
       "      <td>530670013</td>\n",
       "      <td>840530670013</td>\n",
       "    </tr>\n",
       "    <tr>\n",
       "      <th>3</th>\n",
       "      <td>48.129101</td>\n",
       "      <td>-122.778900</td>\n",
       "      <td>2024-07-30T23:00</td>\n",
       "      <td>PM2.5</td>\n",
       "      <td>5.5</td>\n",
       "      <td>UG/M3</td>\n",
       "      <td>5.7</td>\n",
       "      <td>31</td>\n",
       "      <td>1</td>\n",
       "      <td>Port Townsend-San Juan</td>\n",
       "      <td>Washington Department of Ecology</td>\n",
       "      <td>530310003</td>\n",
       "      <td>840530310003</td>\n",
       "    </tr>\n",
       "    <tr>\n",
       "      <th>4</th>\n",
       "      <td>47.592675</td>\n",
       "      <td>-122.627397</td>\n",
       "      <td>2024-07-30T23:00</td>\n",
       "      <td>PM2.5</td>\n",
       "      <td>0.1</td>\n",
       "      <td>UG/M3</td>\n",
       "      <td>0.0</td>\n",
       "      <td>1</td>\n",
       "      <td>1</td>\n",
       "      <td>Bremerton-Spruce Ave</td>\n",
       "      <td>Washington Department of Ecology</td>\n",
       "      <td>530350007</td>\n",
       "      <td>840530350007</td>\n",
       "    </tr>\n",
       "    <tr>\n",
       "      <th>...</th>\n",
       "      <td>...</td>\n",
       "      <td>...</td>\n",
       "      <td>...</td>\n",
       "      <td>...</td>\n",
       "      <td>...</td>\n",
       "      <td>...</td>\n",
       "      <td>...</td>\n",
       "      <td>...</td>\n",
       "      <td>...</td>\n",
       "      <td>...</td>\n",
       "      <td>...</td>\n",
       "      <td>...</td>\n",
       "      <td>...</td>\n",
       "    </tr>\n",
       "    <tr>\n",
       "      <th>727</th>\n",
       "      <td>47.498535</td>\n",
       "      <td>-122.278385</td>\n",
       "      <td>2024-07-31T23:00</td>\n",
       "      <td>PM2.5</td>\n",
       "      <td>3.0</td>\n",
       "      <td>UG/M3</td>\n",
       "      <td>-999.0</td>\n",
       "      <td>17</td>\n",
       "      <td>1</td>\n",
       "      <td>Tukwila_Allentown</td>\n",
       "      <td>Washington Department of Ecology</td>\n",
       "      <td>840530330069</td>\n",
       "      <td>840530330069</td>\n",
       "    </tr>\n",
       "    <tr>\n",
       "      <th>728</th>\n",
       "      <td>47.281400</td>\n",
       "      <td>-122.223300</td>\n",
       "      <td>2024-07-31T23:00</td>\n",
       "      <td>PM2.5</td>\n",
       "      <td>3.5</td>\n",
       "      <td>UG/M3</td>\n",
       "      <td>-999.0</td>\n",
       "      <td>19</td>\n",
       "      <td>1</td>\n",
       "      <td>Auburn 29th St</td>\n",
       "      <td>Washington Department of Ecology</td>\n",
       "      <td>840530330047</td>\n",
       "      <td>840530330047</td>\n",
       "    </tr>\n",
       "    <tr>\n",
       "      <th>729</th>\n",
       "      <td>48.054315</td>\n",
       "      <td>-122.171529</td>\n",
       "      <td>2024-07-31T23:00</td>\n",
       "      <td>PM2.5</td>\n",
       "      <td>2.1</td>\n",
       "      <td>UG/M3</td>\n",
       "      <td>-999.0</td>\n",
       "      <td>12</td>\n",
       "      <td>1</td>\n",
       "      <td>Marysville-7th Ave</td>\n",
       "      <td>Washington Department of Ecology</td>\n",
       "      <td>530611007</td>\n",
       "      <td>840530611007</td>\n",
       "    </tr>\n",
       "    <tr>\n",
       "      <th>730</th>\n",
       "      <td>47.600863</td>\n",
       "      <td>-122.148397</td>\n",
       "      <td>2024-07-31T23:00</td>\n",
       "      <td>PM2.5</td>\n",
       "      <td>3.1</td>\n",
       "      <td>UG/M3</td>\n",
       "      <td>-999.0</td>\n",
       "      <td>17</td>\n",
       "      <td>1</td>\n",
       "      <td>Bellevue-SE 12th</td>\n",
       "      <td>Washington Department of Ecology</td>\n",
       "      <td>530330031</td>\n",
       "      <td>840530330031</td>\n",
       "    </tr>\n",
       "    <tr>\n",
       "      <th>731</th>\n",
       "      <td>47.490200</td>\n",
       "      <td>-121.772697</td>\n",
       "      <td>2024-07-31T23:00</td>\n",
       "      <td>PM2.5</td>\n",
       "      <td>3.8</td>\n",
       "      <td>UG/M3</td>\n",
       "      <td>-999.0</td>\n",
       "      <td>21</td>\n",
       "      <td>1</td>\n",
       "      <td>North Bend-North Bend Way (SO)</td>\n",
       "      <td>Washington Department of Ecology</td>\n",
       "      <td>530330017</td>\n",
       "      <td>840530330017</td>\n",
       "    </tr>\n",
       "  </tbody>\n",
       "</table>\n",
       "<p>732 rows × 13 columns</p>\n",
       "</div>"
      ],
      "text/plain": [
       "      Latitude   Longitude               UTC Pollutant  Concentration   Unit  \\\n",
       "0    47.213551 -123.100807  2024-07-30T23:00     PM2.5            2.3  UG/M3   \n",
       "1    47.029301 -122.821503  2024-07-30T23:00     OZONE           12.0    PPB   \n",
       "2    47.029301 -122.821503  2024-07-30T23:00     PM2.5            0.0  UG/M3   \n",
       "3    48.129101 -122.778900  2024-07-30T23:00     PM2.5            5.5  UG/M3   \n",
       "4    47.592675 -122.627397  2024-07-30T23:00     PM2.5            0.1  UG/M3   \n",
       "..         ...         ...               ...       ...            ...    ...   \n",
       "727  47.498535 -122.278385  2024-07-31T23:00     PM2.5            3.0  UG/M3   \n",
       "728  47.281400 -122.223300  2024-07-31T23:00     PM2.5            3.5  UG/M3   \n",
       "729  48.054315 -122.171529  2024-07-31T23:00     PM2.5            2.1  UG/M3   \n",
       "730  47.600863 -122.148397  2024-07-31T23:00     PM2.5            3.1  UG/M3   \n",
       "731  47.490200 -121.772697  2024-07-31T23:00     PM2.5            3.8  UG/M3   \n",
       "\n",
       "     Raw_Concentration  AQI  Category                       Site_Name  \\\n",
       "0                  2.4   13         1              Shelton-W Franklin   \n",
       "1                 13.0   11         1                Lacey-College St   \n",
       "2                 -2.0    0         1                Lacey-College St   \n",
       "3                  5.7   31         1          Port Townsend-San Juan   \n",
       "4                  0.0    1         1            Bremerton-Spruce Ave   \n",
       "..                 ...  ...       ...                             ...   \n",
       "727             -999.0   17         1               Tukwila_Allentown   \n",
       "728             -999.0   19         1                  Auburn 29th St   \n",
       "729             -999.0   12         1              Marysville-7th Ave   \n",
       "730             -999.0   17         1                Bellevue-SE 12th   \n",
       "731             -999.0   21         1  North Bend-North Bend Way (SO)   \n",
       "\n",
       "                          Site_Agency        AQS_ID   Full_AWS_ID  \n",
       "0    Washington Department of Ecology     530450007  840530450007  \n",
       "1    Washington Department of Ecology     530670013  840530670013  \n",
       "2    Washington Department of Ecology     530670013  840530670013  \n",
       "3    Washington Department of Ecology     530310003  840530310003  \n",
       "4    Washington Department of Ecology     530350007  840530350007  \n",
       "..                                ...           ...           ...  \n",
       "727  Washington Department of Ecology  840530330069  840530330069  \n",
       "728  Washington Department of Ecology  840530330047  840530330047  \n",
       "729  Washington Department of Ecology     530611007  840530611007  \n",
       "730  Washington Department of Ecology     530330031  840530330031  \n",
       "731  Washington Department of Ecology     530330017  840530330017  \n",
       "\n",
       "[732 rows x 13 columns]"
      ]
     },
     "execution_count": 15,
     "metadata": {},
     "output_type": "execute_result"
    }
   ],
   "source": [
    "df"
   ]
  },
  {
   "cell_type": "code",
   "execution_count": 16,
   "id": "3cb70dd0",
   "metadata": {},
   "outputs": [],
   "source": [
    "threshold = 50"
   ]
  },
  {
   "cell_type": "code",
   "execution_count": 17,
   "id": "b6b3acf4",
   "metadata": {},
   "outputs": [
    {
     "data": {
      "text/html": [
       "<div>\n",
       "<style scoped>\n",
       "    .dataframe tbody tr th:only-of-type {\n",
       "        vertical-align: middle;\n",
       "    }\n",
       "\n",
       "    .dataframe tbody tr th {\n",
       "        vertical-align: top;\n",
       "    }\n",
       "\n",
       "    .dataframe thead th {\n",
       "        text-align: right;\n",
       "    }\n",
       "</style>\n",
       "<table border=\"1\" class=\"dataframe\">\n",
       "  <thead>\n",
       "    <tr style=\"text-align: right;\">\n",
       "      <th></th>\n",
       "      <th>Latitude</th>\n",
       "      <th>Longitude</th>\n",
       "      <th>UTC</th>\n",
       "      <th>Pollutant</th>\n",
       "      <th>Concentration</th>\n",
       "      <th>Unit</th>\n",
       "      <th>Raw_Concentration</th>\n",
       "      <th>AQI</th>\n",
       "      <th>Category</th>\n",
       "      <th>Site_Name</th>\n",
       "      <th>Site_Agency</th>\n",
       "      <th>AQS_ID</th>\n",
       "      <th>Full_AWS_ID</th>\n",
       "    </tr>\n",
       "  </thead>\n",
       "  <tbody>\n",
       "  </tbody>\n",
       "</table>\n",
       "</div>"
      ],
      "text/plain": [
       "Empty DataFrame\n",
       "Columns: [Latitude, Longitude, UTC, Pollutant, Concentration, Unit, Raw_Concentration, AQI, Category, Site_Name, Site_Agency, AQS_ID, Full_AWS_ID]\n",
       "Index: []"
      ]
     },
     "execution_count": 17,
     "metadata": {},
     "output_type": "execute_result"
    }
   ],
   "source": [
    "exceeding_df = df[df.AQI >= 50]\n",
    "exceeding_df"
   ]
  },
  {
   "cell_type": "code",
   "execution_count": 18,
   "id": "16a9626a",
   "metadata": {},
   "outputs": [
    {
     "name": "stdout",
     "output_type": "stream",
     "text": [
      "All readings okay\n"
     ]
    }
   ],
   "source": [
    "if len(exceeding_df) > 0 :\n",
    "    print(\"AQI threshold exceeded for\", len(exceeding_df), \"station(s)\")\n",
    "else:\n",
    "    print(\"All readings okay\")"
   ]
  },
  {
   "cell_type": "code",
   "execution_count": 32,
   "id": "d0d201db-6c7b-4173-8961-415acf54c57f",
   "metadata": {
    "tags": []
   },
   "outputs": [
    {
     "name": "stderr",
     "output_type": "stream",
     "text": [
      "Writing pin:\n",
      "Name: 'katie.masiello@posit.co/aqi_exceeding_stations'\n",
      "Version: 20240731T232947Z-c7bbe\n"
     ]
    },
    {
     "data": {
      "text/plain": [
       "Meta(title='aqi_exceeding_stations: a pinned 0 x 13 DataFrame', description=None, created='20240731T232947Z', pin_hash='c7bbe54b34fec757', file='aqi_exceeding_stations.csv', file_size=124, type='csv', api_version=1, version=VersionRaw(version='68'), tags=None, name='katie.masiello@posit.co/aqi_exceeding_stations', user={}, local={})"
      ]
     },
     "execution_count": 32,
     "metadata": {},
     "output_type": "execute_result"
    }
   ],
   "source": [
    "import pins\n",
    "board = pins.board_connect()\n",
    "board.pin_write(exceeding_df, \"katie.masiello@posit.co/aqi_exceeding_stations\", type=\"csv\")"
   ]
  }
 ],
 "metadata": {
  "kernelspec": {
   "display_name": ".venv",
   "language": "python",
   "name": "python3"
  },
  "language_info": {
   "codemirror_mode": {
    "name": "ipython",
    "version": 3
   },
   "file_extension": ".py",
   "mimetype": "text/x-python",
   "name": "python",
   "nbconvert_exporter": "python",
   "pygments_lexer": "ipython3",
   "version": "3.11.9"
  },
  "rsconnect": {
   "previousServerId": "3b98fc405e7f0a041b69358d808997fd",
   "servers": {
    "3b98fc405e7f0a041b69358d808997fd": {
     "appId": 10980,
     "appMode": "jupyter-static",
     "configUrl": "https://colorado.posit.co/rsc/connect/#/apps/3de7e12d-ee4b-41de-913a-8197d738b8a4",
     "disableTLSCheck": false,
     "notebookTitle": "AQI_report",
     "server": "https://colorado.posit.co/rsc/",
     "serverName": "colorado"
    }
   },
   "version": 1
  }
 },
 "nbformat": 4,
 "nbformat_minor": 5
}
